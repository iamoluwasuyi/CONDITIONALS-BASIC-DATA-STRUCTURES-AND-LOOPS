{
 "cells": [
  {
   "cell_type": "markdown",
   "id": "af7f4ffd",
   "metadata": {},
   "source": [
    "## CONDITIONALS"
   ]
  },
  {
   "cell_type": "code",
   "execution_count": 6,
   "id": "cf31458a",
   "metadata": {},
   "outputs": [
    {
     "name": "stdout",
     "output_type": "stream",
     "text": [
      "Enter first number: 23\n",
      "Enter second number: 22\n",
      "23 is greater\n"
     ]
    }
   ],
   "source": [
    "# program that checks the larger of two numbers \n",
    "\n",
    "num_1 = int(input('Enter first number: '))\n",
    "num_2 = int(input('Enter second number: '))\n",
    "\n",
    "if num_1 > num_2:\n",
    "    print(f'{num_1} is greater')\n",
    "elif num_2 > num_1:\n",
    "    print(f'{num_2} is greater')\n",
    "else:\n",
    "    print('They are equal')"
   ]
  },
  {
   "cell_type": "code",
   "execution_count": 9,
   "id": "5bb31680",
   "metadata": {},
   "outputs": [
    {
     "name": "stdout",
     "output_type": "stream",
     "text": [
      "Enter your name: salipopi\n",
      "Enter your name: drake\n",
      "salipopi is longer by 3 words\n"
     ]
    }
   ],
   "source": [
    "# program that returns the longer of two names\n",
    "\n",
    "\n",
    "name_1 = input('Enter your name: ')\n",
    "name_2 = input('Enter your name: ')\n",
    "\n",
    "if len(name_1) > len(name_2):\n",
    "    print(f'{name_1} is longer by {len(name_1) - len(name_2)} words')\n",
    "elif len(name_2) > len(name_1):\n",
    "    print(f'{name_2} is longer by {len(name_2) - len(name_1)} words')\n",
    "else:\n",
    "    print(f'They both have {len(name_2)} words')"
   ]
  },
  {
   "cell_type": "code",
   "execution_count": 13,
   "id": "d755c8b6",
   "metadata": {},
   "outputs": [
    {
     "name": "stdout",
     "output_type": "stream",
     "text": [
      "Welcome to the gift game, please enter your birth year: \n",
      "2010\n",
      "Because you are 13 years old, you have been given a book!\n"
     ]
    }
   ],
   "source": [
    "# program that gifts someone a candy if they are less than 5 years , a book if they are less than\n",
    "# 20 years and nothing if they are above 20. \n",
    "\n",
    "print(f'Welcome to the gift game, please enter your birth year: ')\n",
    "year = int(input())\n",
    "\n",
    "if 2023 - year < 5:\n",
    "    print(f'Because you are {2023 - year} years old, you have been given a candy!')\n",
    "elif 2023 - year < 20:\n",
    "    print(f'Because you are {2023 - year} years old, you have been given a book!')\n",
    "else:\n",
    "    print(f'Because you are {2023 - year} years old, you are not getting anything!')"
   ]
  },
  {
   "cell_type": "code",
   "execution_count": 16,
   "id": "de7fb79a",
   "metadata": {},
   "outputs": [
    {
     "name": "stdout",
     "output_type": "stream",
     "text": [
      "Enter your name: Wale\n",
      "Enter your year of birth: 2020\n",
      "Hi Wale, You are a child\n"
     ]
    }
   ],
   "source": [
    "# program that clasiffies age group based on year of birth. age groups are --> children, teenager, adult, old\n",
    "\n",
    "name = input('Enter your name: ')\n",
    "year = int(input('Enter your year of birth: '))\n",
    "\n",
    "if 2023 - year < 13:\n",
    "    print(f'Hi {name}, You are a child')\n",
    "elif 2023 - year < 20:\n",
    "    print('fHi {name},You are a teenager')\n",
    "elif 2023 - year < 60:\n",
    "    print(f'Hi {name},you are an adult')\n",
    "else:\n",
    "    print(f'Hi {name},you are old!')"
   ]
  },
  {
   "cell_type": "code",
   "execution_count": 18,
   "id": "0501ed17",
   "metadata": {},
   "outputs": [
    {
     "name": "stdout",
     "output_type": "stream",
     "text": [
      "Enter the number: 76\n",
      "76 is even\n"
     ]
    }
   ],
   "source": [
    "# program that tells whether a number is even or odd.\n",
    "\n",
    "num = int(input('Enter the number: '))\n",
    "\n",
    "if num % 2 == 0:\n",
    "    print(f'{num} is even')\n",
    "else:\n",
    "    print(f'{num} is odd')"
   ]
  },
  {
   "cell_type": "code",
   "execution_count": 3,
   "id": "b390887e",
   "metadata": {},
   "outputs": [
    {
     "name": "stdout",
     "output_type": "stream",
     "text": [
      "Enter the amount you want to borrow: 500000\n",
      "How many years: 1\n",
      "Hurray! you have gotten a 30% interest discount of 3150.0\n",
      "your repayment amount is 510500.0\n"
     ]
    }
   ],
   "source": [
    "'''\n",
    "You are going to write a program for a loan app. This program calculates the simple interest\n",
    "and amount payable on a loan based on rate,time,and amount borrowed. To entice customers, there is \n",
    "a 30% discount on interest for loan amounts that are above 300k. Include this variation in your\n",
    "program and notify the beneficiary that they've gotten the discount.\n",
    "'''\n",
    "\n",
    "\n",
    "principal = int(input('Enter the amount you want to borrow: '))\n",
    "time = int(input('How many years: '))\n",
    "rate = 3\n",
    "\n",
    "interest = (principal * rate * time)/100\n",
    "\n",
    "if principal > 300000:\n",
    "    interest = interest * 0.7\n",
    "    amount_payable = interest + principal\n",
    "    print(f'Hurray! you have gotten a 30% interest discount of {interest * 0.3}')\n",
    "else:\n",
    "    amount_payable = interest + principal\n",
    "    \n",
    "    \n",
    "print(f'your repayment amount is {amount_payable}')"
   ]
  },
  {
   "cell_type": "code",
   "execution_count": null,
   "id": "9dcb48e4",
   "metadata": {},
   "outputs": [],
   "source": [
    "# write a program that checks whether a number is greater than 10 or not\n",
    "\n",
    "number = int(input())\n",
    "if number > 10:\n",
    "    print(f'{number} is greater')\n",
    "else:\n",
    "    print(f'{number} is not greater than 10')"
   ]
  },
  {
   "cell_type": "markdown",
   "id": "d9b5603c",
   "metadata": {},
   "source": [
    "### Lists, Tuples, Dictionaries"
   ]
  },
  {
   "cell_type": "code",
   "execution_count": 18,
   "id": "8114eb61",
   "metadata": {},
   "outputs": [
    {
     "name": "stdout",
     "output_type": "stream",
     "text": [
      "<class 'list'>\n",
      "<class 'tuple'>\n"
     ]
    }
   ],
   "source": [
    "fruits = ['mango', 'orange', 'cashew','melon','cucumber','carrot']\n",
    "states = ('oyo', 'ogun', 'lagos')\n",
    "\n",
    "print(type(fruits))\n",
    "print(type(states))"
   ]
  },
  {
   "cell_type": "code",
   "execution_count": 6,
   "id": "6c766645",
   "metadata": {},
   "outputs": [
    {
     "name": "stdout",
     "output_type": "stream",
     "text": [
      "[1, 2, 3, 4, 5, 6, 7, 8, 9, 10]\n"
     ]
    }
   ],
   "source": [
    "# create  a list of numbers between 1 and 10\n",
    "\n",
    "\n",
    "numbers = [1,2,3,4,5,6,7,8,9,10]\n",
    "print(numbers)"
   ]
  },
  {
   "cell_type": "code",
   "execution_count": 8,
   "id": "650ad272",
   "metadata": {},
   "outputs": [
    {
     "data": {
      "text/plain": [
       "[1, 2, 3, 4, 5, 6, 7, 8, 9, 10]"
      ]
     },
     "execution_count": 8,
     "metadata": {},
     "output_type": "execute_result"
    }
   ],
   "source": [
    "list(range(1,11))"
   ]
  },
  {
   "cell_type": "code",
   "execution_count": 19,
   "id": "55ad8679",
   "metadata": {},
   "outputs": [
    {
     "data": {
      "text/plain": [
       "['mango', 'orange', 'cashew', 'melon']"
      ]
     },
     "execution_count": 19,
     "metadata": {},
     "output_type": "execute_result"
    }
   ],
   "source": [
    "fruits[0:4]"
   ]
  },
  {
   "cell_type": "markdown",
   "id": "0a9da769",
   "metadata": {},
   "source": [
    "### List functions and list methods"
   ]
  },
  {
   "cell_type": "code",
   "execution_count": 36,
   "id": "863b91eb",
   "metadata": {},
   "outputs": [
    {
     "data": {
      "text/plain": [
       "[9, 6, 5, 4, 2, 1]"
      ]
     },
     "execution_count": 36,
     "metadata": {},
     "output_type": "execute_result"
    }
   ],
   "source": [
    "# sum\n",
    "# sum of even numbers between 20 and 50\n",
    "\n",
    "even_no = list(range(20,51,2))\n",
    "sum(even_no)\n",
    "\n",
    "# len\n",
    "# count the number of multiples of 7 between 20 and 50\n",
    "\n",
    "multiple_7 = list(range(21,51,7))\n",
    "\n",
    "len(multiple_7)\n",
    "# sorted\n",
    "\n",
    "nums = [4,2,1,6,5,9]\n",
    "sorted_num = sorted(nums)\n",
    "\n",
    "# reversed\n",
    "\n",
    "list(reversed(sorted_num))"
   ]
  },
  {
   "cell_type": "code",
   "execution_count": null,
   "id": "791a2d69",
   "metadata": {},
   "outputs": [],
   "source": [
    "'''\n",
    "return the list of odd numbers between 513 and 1000  and perform the following operations\n",
    "\n",
    "1. number of elements in the list\n",
    "2. sum of the odd numbers between 513 and 1000\n",
    "3. reverse the list\n",
    "4. sort the reversed list to its initial state.\n",
    "'''"
   ]
  },
  {
   "cell_type": "code",
   "execution_count": 1,
   "id": "c82432a8",
   "metadata": {},
   "outputs": [
    {
     "name": "stdout",
     "output_type": "stream",
     "text": [
      "[]\n"
     ]
    }
   ],
   "source": [
    "register = []\n",
    "\n",
    "print(register)"
   ]
  },
  {
   "cell_type": "code",
   "execution_count": 2,
   "id": "ed056004",
   "metadata": {},
   "outputs": [],
   "source": [
    "register.append('George')"
   ]
  },
  {
   "cell_type": "code",
   "execution_count": 3,
   "id": "33f5e922",
   "metadata": {},
   "outputs": [
    {
     "data": {
      "text/plain": [
       "['George']"
      ]
     },
     "execution_count": 3,
     "metadata": {},
     "output_type": "execute_result"
    }
   ],
   "source": [
    "register"
   ]
  },
  {
   "cell_type": "code",
   "execution_count": 5,
   "id": "20f68989",
   "metadata": {},
   "outputs": [
    {
     "name": "stdout",
     "output_type": "stream",
     "text": [
      "orange is sweet\n",
      "mango is sweet\n",
      "banana is sweet\n"
     ]
    }
   ],
   "source": [
    "fruits = ['orange', 'mango','banana']\n",
    "\n",
    "\n",
    "for fruit in fruits:\n",
    "    print(f'{fruit} is sweet')"
   ]
  },
  {
   "cell_type": "code",
   "execution_count": 6,
   "id": "b28502cf",
   "metadata": {},
   "outputs": [
    {
     "name": "stdout",
     "output_type": "stream",
     "text": [
      "5\n",
      "6\n",
      "7\n",
      "8\n",
      "9\n",
      "10\n"
     ]
    }
   ],
   "source": [
    "for num in range(2,8):\n",
    "    num = num + 3\n",
    "    print(num)"
   ]
  },
  {
   "cell_type": "code",
   "execution_count": 8,
   "id": "46c44c27",
   "metadata": {},
   "outputs": [
    {
     "name": "stdout",
     "output_type": "stream",
     "text": [
      "Enter your name: Wale\n",
      "Hi Wale you are not a ds student\n"
     ]
    }
   ],
   "source": [
    "# a program that checks whether someone is a data science student at appclick\n",
    "\n",
    "ds_appclick = ['George', 'Yemi', 'Zainab', 'Marvelous']\n",
    "\n",
    "user = input('Enter your name: ')\n",
    "\n",
    "if user in ds_appclick:\n",
    "    print(f'Hello {user} welcome to class')\n",
    "else:\n",
    "    print(f'Hi {user} you are not a ds student')"
   ]
  },
  {
   "cell_type": "code",
   "execution_count": 9,
   "id": "34b8f37c",
   "metadata": {},
   "outputs": [
    {
     "name": "stdout",
     "output_type": "stream",
     "text": [
      "George\n",
      "Yemi\n",
      "Zainab\n",
      "Marvelous\n"
     ]
    }
   ],
   "source": [
    "# print the names of data science students\n",
    "\n",
    "for name in ds_appclick:\n",
    "    print(name)"
   ]
  },
  {
   "cell_type": "code",
   "execution_count": 10,
   "id": "c2d1dbe0",
   "metadata": {},
   "outputs": [
    {
     "name": "stdout",
     "output_type": "stream",
     "text": [
      "even no: [2, 4, 6, 8, 10, 12, 14, 16, 18, 20, 22, 24, 26, 28, 30, 32, 34, 36, 38, 40]\n",
      "odd no: [1, 3, 5, 7, 9, 11, 13, 15, 17, 19, 21, 23, 25, 27, 29, 31, 33, 35, 37, 39]\n"
     ]
    }
   ],
   "source": [
    "# program that returns the lists of even and odd numbers within 100\n",
    "\n",
    "large_list = list(range(1,41))\n",
    "\n",
    "even_list = []\n",
    "odd_list = []\n",
    "\n",
    "for number in large_list:\n",
    "    if number % 2 == 0:\n",
    "        even_list.append(number)\n",
    "    else:\n",
    "        odd_list.append(number)\n",
    "\n",
    "        \n",
    "print(f'even no: {even_list}')\n",
    "print(f'odd no: {odd_list}')"
   ]
  },
  {
   "cell_type": "code",
   "execution_count": 20,
   "id": "0327c7f5",
   "metadata": {},
   "outputs": [
    {
     "name": "stdout",
     "output_type": "stream",
     "text": [
      "Enter the value: 3\n",
      "Enter the upper bound: 45\n",
      "Enter the lower bound: 4\n",
      "There are 14 numbers between 4 and 45 that are divisible by 3\n"
     ]
    }
   ],
   "source": [
    "# write a program that prints the multiples of any value within a given range\n",
    "\n",
    "factor = int(input('Enter the value: '))\n",
    "upper_bound = int(input('Enter the upper bound: '))\n",
    "lower_bound = int(input('Enter the lower bound: '))\n",
    "\n",
    "\n",
    "temp_list = []\n",
    "\n",
    "for num in range(lower_bound, upper_bound+1):\n",
    "    if num % factor == 0:\n",
    "        temp_list.append(num)\n",
    "\n",
    "length = len(temp_list)\n",
    "print(f'There are {length} numbers between {lower_bound} and {upper_bound} that are divisible by {factor}')\n"
   ]
  },
  {
   "cell_type": "code",
   "execution_count": 23,
   "id": "e5395aff",
   "metadata": {},
   "outputs": [
    {
     "name": "stdout",
     "output_type": "stream",
     "text": [
      "Enter your name: George\n",
      "Hi George, there are  2 vowels in your name\n"
     ]
    }
   ],
   "source": [
    "# program that returns the number of vowel letters in a name\n",
    "\n",
    "name = input('Enter your name: ')\n",
    "\n",
    "vowels = ['a','e','i','o','u']\n",
    "\n",
    "temp_list = []\n",
    "\n",
    "for letter in name:\n",
    "    if letter in vowels and letter not in temp_list:\n",
    "        temp_list.append(letter)\n",
    "        \n",
    "count = len(temp_list)\n",
    "\n",
    "print(f'Hi {name}, there are  {count} vowels in your name')\n"
   ]
  },
  {
   "cell_type": "code",
   "execution_count": 1,
   "id": "4aa72d79",
   "metadata": {},
   "outputs": [
    {
     "name": "stdout",
     "output_type": "stream",
     "text": [
      "1\n",
      "10\n",
      "even : [2, 4, 6, 8, 10]\n",
      "multiple_4 : [4, 8]\n",
      "multiple_7 : [7]\n"
     ]
    }
   ],
   "source": [
    " # write a program that prints the even numbers, multiples of 4 and multiples of 7 between a range.\n",
    "    \n",
    "lower_bound = int(input())\n",
    "upper_bound = int(input())\n",
    "\n",
    "even_list = []\n",
    "multiple_4 = []\n",
    "multiple_7 = []\n",
    "\n",
    "for number in range(lower_bound, upper_bound+1):\n",
    "    if number % 2 == 0:\n",
    "        even_list.append(number)\n",
    "    if number % 4 == 0:\n",
    "        multiple_4.append(number)\n",
    "    if number % 7 == 0:\n",
    "        multiple_7.append(number)\n",
    "        \n",
    "print(f'even : {even_list}')\n",
    "print(f'multiple_4 : {multiple_4}')\n",
    "print(f'multiple_7 : {multiple_7}')"
   ]
  },
  {
   "cell_type": "markdown",
   "id": "b0f32ff7",
   "metadata": {},
   "source": [
    "## WHILE LOOP"
   ]
  },
  {
   "cell_type": "code",
   "execution_count": 1,
   "id": "c6f33701",
   "metadata": {},
   "outputs": [
    {
     "name": "stdout",
     "output_type": "stream",
     "text": [
      "1\n",
      "2\n",
      "3\n",
      "4\n",
      "5\n"
     ]
    }
   ],
   "source": [
    "for i in range(1,6):\n",
    "    print(i)"
   ]
  },
  {
   "cell_type": "code",
   "execution_count": 2,
   "id": "4bb53f0e",
   "metadata": {},
   "outputs": [
    {
     "name": "stdout",
     "output_type": "stream",
     "text": [
      "1\n",
      "2\n",
      "3\n",
      "4\n",
      "5\n"
     ]
    }
   ],
   "source": [
    "counter = 1\n",
    "\n",
    "while True:\n",
    "    if counter <= 5:\n",
    "        print(counter)\n",
    "        counter += 1\n",
    "    else:\n",
    "        break"
   ]
  },
  {
   "cell_type": "code",
   "execution_count": 4,
   "id": "6b2d7d1a",
   "metadata": {},
   "outputs": [
    {
     "name": "stdout",
     "output_type": "stream",
     "text": [
      "Enter your name: Sola\n",
      "Sola, you should not be filing this register\n",
      "Enter your name: George\n",
      "Hi George, welcome to the office\n",
      "Enter your name: Ife\n",
      "Hi Ife, welcome to the office\n",
      "Enter your name: Tayo\n",
      "Tayo, you should not be filing this register\n",
      "Enter your name: Henry\n",
      "Hi Henry, welcome to the office\n",
      "Enter your name: xyz\n",
      "People that came to work: ['George', 'Ife', 'Henry']\n",
      "People that did not come to work: ['Ayo', 'Segun', 'Sade', 'Tosin']\n"
     ]
    }
   ],
   "source": [
    "# write an attendance register program that prints the name of all the people that came to work\n",
    "\n",
    "staff = ['George', 'Ayo','Segun','Sade','Tosin','Ife','Henry']\n",
    "register = []\n",
    "password = 'xyz'\n",
    "\n",
    "while True:\n",
    "    name = input('Enter your name: ')\n",
    "    if name != password and name in staff:\n",
    "        register.append(name)\n",
    "        print(f'Hi {name}, welcome to the office')\n",
    "    elif name != password and name not in staff:\n",
    "        print(f'{name}, you should not be filing this register')\n",
    "    else:\n",
    "        break\n",
    "\n",
    "present = []\n",
    "absent = []\n",
    "\n",
    "for element in staff:\n",
    "    if element in register: \n",
    "        present.append(element)\n",
    "    else:\n",
    "        absent.append(element)\n",
    "    \n",
    "\n",
    "print(f'People that came to work: {available}')\n",
    "print(f'People that did not come to work: {not_available}')"
   ]
  },
  {
   "cell_type": "code",
   "execution_count": 6,
   "id": "1ae96d54",
   "metadata": {},
   "outputs": [
    {
     "name": "stdout",
     "output_type": "stream",
     "text": [
      "Enter first number: 4\n",
      "Enter second number: 9\n",
      "The Lcm of 4 and 9 is 36\n"
     ]
    }
   ],
   "source": [
    "# write a program that finds the lcm of two numbers \n",
    "\n",
    "num_1 = int(input('Enter first number: '))\n",
    "num_2 = int(input('Enter second number: '))\n",
    "\n",
    "\n",
    "if num_1 > num_2:\n",
    "    greater = num_1\n",
    "else:\n",
    "    greater = num_2\n",
    "    \n",
    "while True:\n",
    "    if greater % num_1 == 0 and greater % num_2 == 0:\n",
    "        lcm = greater\n",
    "        break\n",
    "    else:\n",
    "        greater += 1\n",
    "\n",
    "print(f'The Lcm of {num_1} and {num_2} is {lcm}')"
   ]
  },
  {
   "cell_type": "markdown",
   "id": "535d796f",
   "metadata": {},
   "source": [
    "## Dictionaries "
   ]
  },
  {
   "cell_type": "code",
   "execution_count": 7,
   "id": "3b3f272a",
   "metadata": {},
   "outputs": [],
   "source": [
    "south_west = {'Lagos':'Ikeja',\n",
    "             'Oyo':'Ibadan',\n",
    "             'Osun':'Osogbo',\n",
    "             'Ogun': 'Abeokuta',\n",
    "             'Ondo':'Akure',\n",
    "             'Ekiti':'Ado-Ekiti'}"
   ]
  },
  {
   "cell_type": "code",
   "execution_count": 8,
   "id": "2dea6c3e",
   "metadata": {},
   "outputs": [
    {
     "data": {
      "text/plain": [
       "{'Lagos': 'Ikeja',\n",
       " 'Oyo': 'Ibadan',\n",
       " 'Osun': 'Osogbo',\n",
       " 'Ogun': 'Abeokuta',\n",
       " 'Ondo': 'Akure',\n",
       " 'Ekiti': 'Ado-Ekiti'}"
      ]
     },
     "execution_count": 8,
     "metadata": {},
     "output_type": "execute_result"
    }
   ],
   "source": [
    "south_west"
   ]
  },
  {
   "cell_type": "code",
   "execution_count": 9,
   "id": "0e9aa21c",
   "metadata": {},
   "outputs": [
    {
     "data": {
      "text/plain": [
       "dict_keys(['Lagos', 'Oyo', 'Osun', 'Ogun', 'Ondo', 'Ekiti'])"
      ]
     },
     "execution_count": 9,
     "metadata": {},
     "output_type": "execute_result"
    }
   ],
   "source": [
    "south_west.keys()"
   ]
  },
  {
   "cell_type": "code",
   "execution_count": 10,
   "id": "96487ecb",
   "metadata": {},
   "outputs": [
    {
     "data": {
      "text/plain": [
       "dict_values(['Ikeja', 'Ibadan', 'Osogbo', 'Abeokuta', 'Akure', 'Ado-Ekiti'])"
      ]
     },
     "execution_count": 10,
     "metadata": {},
     "output_type": "execute_result"
    }
   ],
   "source": [
    "south_west.values()"
   ]
  },
  {
   "cell_type": "code",
   "execution_count": 11,
   "id": "a8d5eba9",
   "metadata": {},
   "outputs": [
    {
     "data": {
      "text/plain": [
       "'Ikeja'"
      ]
     },
     "execution_count": 11,
     "metadata": {},
     "output_type": "execute_result"
    }
   ],
   "source": [
    "south_west['Lagos']"
   ]
  },
  {
   "cell_type": "code",
   "execution_count": 12,
   "id": "fc1215c6",
   "metadata": {},
   "outputs": [
    {
     "data": {
      "text/plain": [
       "'Ibadan'"
      ]
     },
     "execution_count": 12,
     "metadata": {},
     "output_type": "execute_result"
    }
   ],
   "source": [
    "south_west['Oyo']"
   ]
  },
  {
   "cell_type": "code",
   "execution_count": null,
   "id": "c98c7a76",
   "metadata": {},
   "outputs": [],
   "source": [
    "# write a simple restaurant program\n",
    "\n",
    "\n",
    "menu = {'rice': 200,\n",
    "       'beans': 100,\n",
    "       'spag': 50,\n",
    "       'fish': 200,\n",
    "       'plantain': 50,\n",
    "       'beef': 200}\n",
    "\n",
    "menu"
   ]
  },
  {
   "cell_type": "code",
   "execution_count": null,
   "id": "458cf3f2",
   "metadata": {},
   "outputs": [],
   "source": [
    "# program that enrolls students for web dev, data science and digital  marketting training"
   ]
  }
 ],
 "metadata": {
  "kernelspec": {
   "display_name": "Python 3 (ipykernel)",
   "language": "python",
   "name": "python3"
  },
  "language_info": {
   "codemirror_mode": {
    "name": "ipython",
    "version": 3
   },
   "file_extension": ".py",
   "mimetype": "text/x-python",
   "name": "python",
   "nbconvert_exporter": "python",
   "pygments_lexer": "ipython3",
   "version": "3.11.4"
  }
 },
 "nbformat": 4,
 "nbformat_minor": 5
}
